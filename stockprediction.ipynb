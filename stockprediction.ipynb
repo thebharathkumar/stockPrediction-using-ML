{
  "nbformat": 4,
  "nbformat_minor": 0,
  "metadata": {
    "colab": {
      "provenance": []
    },
    "kernelspec": {
      "name": "python3",
      "display_name": "Python 3"
    },
    "language_info": {
      "name": "python"
    }
  },
  "cells": [
    {
      "cell_type": "code",
      "metadata": {
        "id": "ae6Pxuc-CNeu"
      },
      "source": [
        "import pandas as pd\n",
        "import numpy as np"
      ],
      "execution_count": 1,
      "outputs": []
    },
    {
      "cell_type": "code",
      "metadata": {
        "id": "w0WCVounIsJ5"
      },
      "source": [
        "from google.colab import files\n",
        "uploaded = files.upload()"
      ],
      "execution_count": null,
      "outputs": []
    },
    {
      "cell_type": "code",
      "metadata": {
        "id": "zxBak91bI2yh"
      },
      "source": [
        "dataset = pd.read_csv('data.csv')"
      ],
      "execution_count": 3,
      "outputs": []
    },
    {
      "cell_type": "code",
      "metadata": {
        "id": "63BR2xiKI7oZ"
      },
      "source": [
        "print(dataset.shape)\n",
        "print(dataset.head(5))"
      ],
      "execution_count": null,
      "outputs": []
    },
    {
      "cell_type": "code",
      "metadata": {
        "id": "iR3g4pDjJoj9"
      },
      "source": [
        "X = dataset.iloc[:, :-1].values\n",
        "X"
      ],
      "execution_count": null,
      "outputs": []
    },
    {
      "cell_type": "code",
      "metadata": {
        "id": "LyJ8ghMFKcMe"
      },
      "source": [
        "Y = dataset.iloc[:, -1].values\n",
        "Y"
      ],
      "execution_count": null,
      "outputs": []
    },
    {
      "cell_type": "code",
      "metadata": {
        "id": "Pc4kGEuDw36Q"
      },
      "source": [
        "from sklearn.model_selection import train_test_split\n",
        "x_train,x_test,y_train,y_test = train_test_split(X,Y,test_size=0.20,random_state=0)"
      ],
      "execution_count": 7,
      "outputs": []
    },
    {
      "cell_type": "code",
      "metadata": {
        "id": "c4x1C89ZVjr9"
      },
      "source": [
        "from sklearn.svm import SVR\n",
        "model = SVR()\n",
        "model.fit(x_train,y_train)"
      ],
      "execution_count": null,
      "outputs": []
    },
    {
      "cell_type": "code",
      "metadata": {
        "id": "mt_Z7EDqWhdB"
      },
      "source": [
        "ypred = model.predict(x_test)\n",
        "\n",
        "from sklearn.metrics import r2_score,mean_squared_error\n",
        "mse = mean_squared_error(y_test,ypred)\n",
        "rmse=np.sqrt(mse)\n",
        "print(\"Root Mean Square Error:\",rmse)\n",
        "r2score = r2_score(y_test,ypred)\n",
        "print(\"R2Score\",r2score*100)"
      ],
      "execution_count": null,
      "outputs": []
    }
  ]
}